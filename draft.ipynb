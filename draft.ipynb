{
 "cells": [
  {
   "cell_type": "code",
   "execution_count": null,
   "metadata": {},
   "outputs": [],
   "source": [
    "import cv2\n",
    "import copy\n",
    "from tqdm import tqdm\n",
    "import numpy as np\n",
    "import matplotlib.pyplot as plt\n",
    "from torchvision.transforms import transforms\n",
    "from torchvision.transforms import functional as F\n",
    "import os\n",
    "from src.tools.utils import write_json, clear_file, is_video_detect, find_next, find_reference\n",
    "from src.tools.VideoClip import VideoClip\n",
    "from src.models.PoseDetect import PoseDetect\n",
    "from src.models.CourtDetect import CourtDetect\n",
    "from src.models.NetDetect import NetDetect\n",
    "import argparse\n",
    "from src.tools.BallDetect import ball_detect\n",
    "import warnings\n",
    "# clear the polyfit Rankwarning\n",
    "warnings.simplefilter('ignore', np.RankWarning)\n",
    "\n",
    "result_path=\"C:/Users/86153/Desktop/res\"\n",
    "name_list=[\n",
    "    \"Akane_YAMAGUCHI_AN_Se_Young_BWF_World_Championships_2022_Semi_finals\",\n",
    "    \"Akane_YAMAGUCHI_AN_Se_Young_DAIHATSU_YONEX_Japan_Open_2022_Finals\",\n",
    "    \"Akane_YAMAGUCHI_CHEN_Yu_Fei_BWF_World_Championships_2022_Finals\",\n",
    "    \"Akane_YAMAGUCHI_CHEN_Yu_Fei_England_Open_2022_Semi_finals\",\n",
    "    \"An_Se_Young_Chen_Yu_Fei_PERODUA_Malaysia_Masters_2022_Finals\",\n",
    "    \"AN_Se_Young_Gregoria_Mariska_TUNJUNG_Malaysia_Masters_2022_SemiFinals\",\n",
    "    \"AN_Se_Young_Pornpawee_CHOCHUWONG_Korea_Open_Badminton_Championships_2022_Finals\",\n",
    "    \"AN_Seyoung_PUSARLA_V\",\n",
    "    \"Anders_Antonsen_Viktor_Axelsen_HSBC_BWF_WORLD_TOUR_FINALS_2020_Finals\",\n",
    "    \"Anthony_Sinisuka_Ginting_Rasmus_Gemke_YONEX_Thailand_Open_2021_QuarterFinals\",\n",
    "]\n",
    "for video_name in name_list:\n",
    "    print(\"-\" * 10 + \"Starting Ball Detection\" + \"-\" * 10)       \n",
    "    for res_root, res_dirs, res_files in os.walk(\n",
    "            f\"{result_path}/videos/{video_name}\"):\n",
    "        for res_file in res_files:\n",
    "            _, ext = os.path.splitext(res_file)\n",
    "            if ext.lower() in ['.mp4']:\n",
    "                res_video_path = os.path.join(res_root, res_file)\n",
    "                print(res_video_path)\n",
    "                ball_detect(res_video_path, f\"{result_path}/ball\")\n",
    "    print(\"-\" * 10 + \"End Badminton Detection\" + \"-\" * 10)\n"
   ]
  }
 ],
 "metadata": {
  "kernelspec": {
   "display_name": "joyrl",
   "language": "python",
   "name": "python3"
  },
  "language_info": {
   "codemirror_mode": {
    "name": "ipython",
    "version": 3
   },
   "file_extension": ".py",
   "mimetype": "text/x-python",
   "name": "python",
   "nbconvert_exporter": "python",
   "pygments_lexer": "ipython3",
   "version": "3.9.18"
  }
 },
 "nbformat": 4,
 "nbformat_minor": 2
}
