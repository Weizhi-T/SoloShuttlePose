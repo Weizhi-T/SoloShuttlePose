{
 "cells": [
  {
   "cell_type": "markdown",
   "metadata": {},
   "source": [
    "# About the \"bisection\"\n",
    "The program use the \"bisection\" algorithm find the first valid frame. The anther one just use the order algorithm to find the first valid-frame. Thereby, you can see the first one are much faster and can record more valid frame than the first one. The first one spend 4 minutes 21 seconds while the second one spend 6 minutes 41 seconds. You can do the experiment in this file."
   ]
  },
  {
   "cell_type": "code",
   "execution_count": 7,
   "metadata": {},
   "outputs": [],
   "source": [
    "# delete file\n",
    "from utils import clear_file\n",
    "defile_name=\"E\"\n",
    "save_path=\"res\"\n",
    "clear_file(defile_name,save_path)"
   ]
  },
  {
   "cell_type": "markdown",
   "metadata": {},
   "source": [
    "test the CourtDetect, the test video is not the normal camera view."
   ]
  },
  {
   "cell_type": "code",
   "execution_count": 9,
   "metadata": {},
   "outputs": [
    {
     "name": "stdout",
     "output_type": "stream",
     "text": [
      "court-info-analysis\\test4_demo\n"
     ]
    }
   ],
   "source": [
    "\n",
    "import cv2 \n",
    "from CourtDetect import CourtDetect\n",
    "from VideoClip import VideoClip\n",
    "import os\n",
    "\n",
    "video_path=\"videos/test4.mp4\"\n",
    "\n",
    "video_name = os.path.basename(video_path).split('.')[0]\n",
    "\n",
    "# Open the video file\n",
    "video = cv2.VideoCapture(video_path)\n",
    "\n",
    "# 设置输出视频的名称、编解码器、帧率和视频分辨率\n",
    "video_name = f\"{video_name}\"\n",
    "full_path = os.path.join(\"court-info-analysis\", video_name)\n",
    "\n",
    "if not os.path.exists(full_path):\n",
    "    os.makedirs(full_path)\n",
    "\n",
    "\n",
    "print(full_path)\n",
    "\n",
    "frame_width = int(video.get(cv2.CAP_PROP_FRAME_WIDTH))\n",
    "frame_height = int(video.get(cv2.CAP_PROP_FRAME_HEIGHT))\n",
    "\n",
    "\n",
    "# Get video properties\n",
    "fps = video.get(cv2.CAP_PROP_FPS)\n",
    "\n",
    "# Number of consecutively detected pitch frames\n",
    "last_count = 0\n",
    "total_frames = int(video.get(cv2.CAP_PROP_FRAME_COUNT))\n",
    "court_info_list = []\n",
    "# the number of skip frams per time\n",
    "skip_frames = int(fps)\n",
    "\n",
    "courtdetect=CourtDetect()\n",
    "video_cilp = VideoClip(video_name, fps, 2, total_frames,\n",
    "                        frame_height, frame_width, full_path)\n",
    "cnt=0\n",
    "while True:\n",
    "    ret, frame = video.read()\n",
    "    if not ret:\n",
    "        break\n",
    "    court_info, have_court = courtdetect.get_court_info(frame)\n",
    "    if have_court:\n",
    "        frame=courtdetect.draw_court(frame)\n",
    "    video_cilp.add_frame(True,frame,cnt)\n",
    "    cnt+=1"
   ]
  }
 ],
 "metadata": {
  "kernelspec": {
   "display_name": "joyrl",
   "language": "python",
   "name": "python3"
  },
  "language_info": {
   "codemirror_mode": {
    "name": "ipython",
    "version": 3
   },
   "file_extension": ".py",
   "mimetype": "text/x-python",
   "name": "python",
   "nbconvert_exporter": "python",
   "pygments_lexer": "ipython3",
   "version": "3.8.16"
  }
 },
 "nbformat": 4,
 "nbformat_minor": 2
}
