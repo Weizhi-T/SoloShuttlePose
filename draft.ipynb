{
 "cells": [
  {
   "cell_type": "markdown",
   "metadata": {},
   "source": [
    "# About the \"bisection\"\n",
    "The program use the \"bisection\" algorithm find the first valid frame. The anther one just use the order algorithm to find the first valid-frame. Thereby, you can see the first one are much faster and can record more valid frame than the first one. The first one spend 4 minutes 21 seconds while the second one spend 6 minutes 41 seconds. You can do the experiment in this file."
   ]
  }
 ],
 "metadata": {
  "kernelspec": {
   "display_name": "joyrl",
   "language": "python",
   "name": "python3"
  },
  "language_info": {
   "codemirror_mode": {
    "name": "ipython",
    "version": 3
   },
   "file_extension": ".py",
   "mimetype": "text/x-python",
   "name": "python",
   "nbconvert_exporter": "python",
   "pygments_lexer": "ipython3",
   "version": "3.8.16"
  }
 },
 "nbformat": 4,
 "nbformat_minor": 2
}
