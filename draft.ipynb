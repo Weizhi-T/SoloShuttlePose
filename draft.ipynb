{
 "cells": [
  {
   "cell_type": "markdown",
   "metadata": {},
   "source": [
    "# About the \"bisection\"\n",
    "The program use the \"bisection\" algorithm find the first valid frame. The anther one just use the order algorithm to find the first valid-frame. Thereby, you can see the first one are much faster and can record more valid frame than the first one. The first one spend 4 minutes 21 seconds while the second one spend 6 minutes 41 seconds. You can do the experiment in this file."
   ]
  },
  {
   "cell_type": "code",
   "execution_count": null,
   "metadata": {},
   "outputs": [],
   "source": [
    "# delete file\n",
    "from utils import clear_file\n",
    "defile_name=\"E\"\n",
    "save_path=\"res\"\n",
    "clear_file(defile_name,save_path)"
   ]
  },
  {
   "cell_type": "markdown",
   "metadata": {},
   "source": [
    "test the CourtDetect, the test video is not the normal camera view."
   ]
  },
  {
   "cell_type": "code",
   "execution_count": null,
   "metadata": {},
   "outputs": [],
   "source": [
    "\n",
    "import cv2 \n",
    "from CourtDetect import CourtDetect\n",
    "from VideoClip import VideoClip\n",
    "import os\n",
    "import tqdm\n",
    "\n",
    "video_path=\"videos/B.mp4\"\n",
    "\n",
    "video_name = os.path.basename(video_path).split('.')[0]\n",
    "\n",
    "# Open the video file\n",
    "video = cv2.VideoCapture(video_path)\n",
    "\n",
    "# 设置输出视频的名称、编解码器、帧率和视频分辨率\n",
    "video_name = f\"{video_name}\"\n",
    "full_path = os.path.join(\"court-info-analysis\", video_name)\n",
    "\n",
    "if not os.path.exists(full_path):\n",
    "    os.makedirs(full_path)\n",
    "\n",
    "\n",
    "print(full_path)\n",
    "\n",
    "frame_width = int(video.get(cv2.CAP_PROP_FRAME_WIDTH))\n",
    "frame_height = int(video.get(cv2.CAP_PROP_FRAME_HEIGHT))\n",
    "\n",
    "\n",
    "# Get video properties\n",
    "fps = video.get(cv2.CAP_PROP_FPS)\n",
    "\n",
    "# Number of consecutively detected pitch frames\n",
    "last_count = 0\n",
    "total_frames = int(video.get(cv2.CAP_PROP_FRAME_COUNT))\n",
    "court_info_list = []\n",
    "# the number of skip frams per time\n",
    "skip_frames = int(fps)\n",
    "\n",
    "courtdetect=CourtDetect()\n",
    "video_cilp = VideoClip(video_name, fps, 2, total_frames,\n",
    "                        frame_height, frame_width, full_path)\n",
    "cnt=0\n",
    "limit=1200\n",
    "\n",
    "\n",
    "while True:\n",
    "    print(cnt)\n",
    "    ret, frame = video.read()\n",
    "    if not ret:\n",
    "        break\n",
    "    court_info, have_court = courtdetect.get_court_info(frame)\n",
    "    if have_court:\n",
    "        frame=courtdetect.draw_court(frame)\n",
    "    if cnt>=limit:\n",
    "        video_cilp.add_frame(True,frame,total_frames-1)\n",
    "        break\n",
    "        \n",
    "    video_cilp.add_frame(True,frame,cnt)\n",
    "    cnt+=1\n",
    "    "
   ]
  },
  {
   "cell_type": "code",
   "execution_count": 5,
   "metadata": {},
   "outputs": [
    {
     "name": "stdout",
     "output_type": "stream",
     "text": [
      "25.0\n",
      "0\n",
      "11262\n",
      "11270\n",
      "11322\n",
      "11351\n"
     ]
    },
    {
     "ename": "ValueError",
     "evalue": "invalid literal for int() with base 10: ''",
     "output_type": "error",
     "traceback": [
      "\u001b[1;31m---------------------------------------------------------------------------\u001b[0m",
      "\u001b[1;31mValueError\u001b[0m                                Traceback (most recent call last)",
      "\u001b[1;32mc:\\Users\\86153\\Desktop\\SoloShuttlePose\\draft.ipynb 单元格 5\u001b[0m line \u001b[0;36m4\n\u001b[0;32m     <a href='vscode-notebook-cell:/c%3A/Users/86153/Desktop/SoloShuttlePose/draft.ipynb#X11sZmlsZQ%3D%3D?line=42'>43</a>\u001b[0m cv2\u001b[39m.\u001b[39mwaitKey(\u001b[39m0\u001b[39m)\n\u001b[0;32m     <a href='vscode-notebook-cell:/c%3A/Users/86153/Desktop/SoloShuttlePose/draft.ipynb#X11sZmlsZQ%3D%3D?line=43'>44</a>\u001b[0m cv2\u001b[39m.\u001b[39mdestroyAllWindows()\n\u001b[1;32m---> <a href='vscode-notebook-cell:/c%3A/Users/86153/Desktop/SoloShuttlePose/draft.ipynb#X11sZmlsZQ%3D%3D?line=44'>45</a>\u001b[0m nframe\u001b[39m=\u001b[39m\u001b[39mint\u001b[39;49m(\u001b[39minput\u001b[39;49m())\n\u001b[0;32m     <a href='vscode-notebook-cell:/c%3A/Users/86153/Desktop/SoloShuttlePose/draft.ipynb#X11sZmlsZQ%3D%3D?line=45'>46</a>\u001b[0m video\u001b[39m.\u001b[39mset(cv2\u001b[39m.\u001b[39mCAP_PROP_POS_FRAMES, nframe)\n",
      "\u001b[1;31mValueError\u001b[0m: invalid literal for int() with base 10: ''"
     ]
    }
   ],
   "source": [
    "\n",
    "import cv2 \n",
    "from CourtDetect import CourtDetect\n",
    "from VideoClip import VideoClip\n",
    "import os\n",
    "import tqdm\n",
    "\n",
    "video_path=\"videos/D.mp4\"\n",
    "\n",
    "video_name = os.path.basename(video_path).split('.')[0]\n",
    "\n",
    "# Open the video file\n",
    "video = cv2.VideoCapture(video_path)\n",
    "\n",
    "# 设置输出视频的名称、编解码器、帧率和视频分辨率\n",
    "video_name = f\"{video_name}\"\n",
    "full_path = os.path.join(\"court-info-analysis\", video_name)\n",
    "\n",
    "\n",
    "frame_width = int(video.get(cv2.CAP_PROP_FRAME_WIDTH))\n",
    "frame_height = int(video.get(cv2.CAP_PROP_FRAME_HEIGHT))\n",
    "\n",
    "\n",
    "# Get video properties\n",
    "fps = video.get(cv2.CAP_PROP_FPS)\n",
    "\n",
    "# Number of consecutively detected pitch frames\n",
    "last_count = 0\n",
    "total_frames = int(video.get(cv2.CAP_PROP_FRAME_COUNT))\n",
    "court_info_list = []\n",
    "# the number of skip frams per time\n",
    "skip_frames = int(fps)\n",
    "\n",
    "print(fps)\n",
    "\n",
    "\n",
    "while True:\n",
    "    current_frame = int(video.get(cv2.CAP_PROP_POS_FRAMES))\n",
    "    ret, frame = video.read()\n",
    "    print(current_frame)\n",
    "    if not ret:\n",
    "        break\n",
    "    cv2.imshow(f\"{current_frame}\",frame)\n",
    "    cv2.waitKey(0)\n",
    "    cv2.destroyAllWindows()\n",
    "    nframe=int(input())\n",
    "    video.set(cv2.CAP_PROP_POS_FRAMES, nframe)\n"
   ]
  },
  {
   "cell_type": "markdown",
   "metadata": {},
   "source": [
    "# test the reference picture name get"
   ]
  },
  {
   "cell_type": "code",
   "execution_count": 3,
   "metadata": {},
   "outputs": [
    {
     "name": "stdout",
     "output_type": "stream",
     "text": [
      "1042\n"
     ]
    }
   ],
   "source": [
    "import os\n",
    "video_path=\"references/test1_1042.jpg\"\n",
    "frame_name = os.path.basename(video_path).split('.')[0].split('_')[-1]\n",
    "print(frame_name)"
   ]
  },
  {
   "cell_type": "code",
   "execution_count": 2,
   "metadata": {},
   "outputs": [
    {
     "name": "stdout",
     "output_type": "stream",
     "text": [
      "[[461, 468], [1442, 445], [462, 464], [1458, 465]]\n",
      "[[952 466]\n",
      " [952 454]\n",
      " [960 454]\n",
      " [960 466]]\n",
      "[[461, 468], [1442, 445], [462, 464], [1458, 465]]\n",
      "[[952 466]\n",
      " [952 454]\n",
      " [960 454]\n",
      " [960 466]]\n"
     ]
    }
   ],
   "source": [
    "from NetDetect import NetDetect\n",
    "import cv2\n",
    "import matplotlib.pyplot as plt\n",
    "\n",
    "reference_path = \"references/test1_1042.jpg\"\n",
    "\n",
    "net_detect = NetDetect()\n",
    "frame = cv2.imread(reference_path)\n",
    "\n",
    "# 获取网络信息和检测结果\n",
    "net_info, have_net = net_detect.get_net_info(frame)\n",
    "\n",
    "# 绘制转换后的图片\n",
    "img = net_detect.draw_net(frame)\n",
    "\n",
    "reference_path = \"references/test1_10421.jpg\"\n",
    "\n",
    "net_detect = NetDetect()\n",
    "frame = cv2.imread(reference_path)\n",
    "\n",
    "# 获取网络信息和检测结果\n",
    "net_info, have_net = net_detect.get_net_info(frame)\n",
    "\n",
    "# 绘制转换后的图片\n",
    "img = net_detect.draw_net(frame)"
   ]
  },
  {
   "cell_type": "code",
   "execution_count": 3,
   "metadata": {},
   "outputs": [
    {
     "name": "stdout",
     "output_type": "stream",
     "text": [
      "True\n"
     ]
    }
   ],
   "source": [
    "import torch\n",
    "print(torch.cuda.is_available())\n"
   ]
  }
 ],
 "metadata": {
  "kernelspec": {
   "display_name": "joyrl",
   "language": "python",
   "name": "python3"
  },
  "language_info": {
   "codemirror_mode": {
    "name": "ipython",
    "version": 3
   },
   "file_extension": ".py",
   "mimetype": "text/x-python",
   "name": "python",
   "nbconvert_exporter": "python",
   "pygments_lexer": "ipython3",
   "version": "3.9.18"
  }
 },
 "nbformat": 4,
 "nbformat_minor": 2
}
